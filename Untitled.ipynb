{
 "cells": [
  {
   "cell_type": "code",
   "execution_count": 21,
   "metadata": {},
   "outputs": [],
   "source": [
    "def getContribution(data):\n",
    "    \n",
    "    contri = {}\n",
    "    for index in range(len(data['people'])):\n",
    "        person = data['people'][index]\n",
    "        contri[person] = 0\n",
    "        for item in data['items']:\n",
    "            contri[person] += item['price']*(item['contri'][index]/100)\n",
    "            contri[person] *= (100+float(item['tax'])+float(data['taxes']))/100\n",
    "        \n",
    "        contri[person] = round(contri[person])                     \n",
    "\n",
    "    return contri"
   ]
  },
  {
   "cell_type": "code",
   "execution_count": 22,
   "metadata": {},
   "outputs": [
    {
     "data": {
      "text/plain": [
       "{'d': 531}"
      ]
     },
     "execution_count": 22,
     "metadata": {},
     "output_type": "execute_result"
    }
   ],
   "source": [
    "import json\n",
    "dictj = {'people': ['d'], 'items': [{'id': 0, 'name': 'pizza', 'price': 450, 'selectall': True, 'contributions': [100], 'select': [True], 'warning': False, 'warning_text': '', 'tax': 8, 'contri': [100]}], 'taxes': '10'}\n",
    "getContribution(dictj)"
   ]
  },
  {
   "cell_type": "code",
   "execution_count": 18,
   "metadata": {},
   "outputs": [
    {
     "data": {
      "text/plain": [
       "[{'id': 0,\n",
       "  'name': 'pizza',\n",
       "  'price': 450,\n",
       "  'selectall': True,\n",
       "  'contributions': [100],\n",
       "  'select': [True],\n",
       "  'warning': False,\n",
       "  'warning_text': '',\n",
       "  'tax': 8,\n",
       "  'contri': [100]}]"
      ]
     },
     "execution_count": 18,
     "metadata": {},
     "output_type": "execute_result"
    }
   ],
   "source": [
    "dictj['items']"
   ]
  },
  {
   "cell_type": "code",
   "execution_count": null,
   "metadata": {},
   "outputs": [],
   "source": []
  }
 ],
 "metadata": {
  "kernelspec": {
   "display_name": "Python 3",
   "language": "python",
   "name": "python3"
  },
  "language_info": {
   "codemirror_mode": {
    "name": "ipython",
    "version": 3
   },
   "file_extension": ".py",
   "mimetype": "text/x-python",
   "name": "python",
   "nbconvert_exporter": "python",
   "pygments_lexer": "ipython3",
   "version": "3.7.0"
  }
 },
 "nbformat": 4,
 "nbformat_minor": 2
}
